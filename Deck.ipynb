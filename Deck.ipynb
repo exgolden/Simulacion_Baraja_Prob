{
 "cells": [
  {
   "cell_type": "markdown",
   "id": "dacf3c47-8287-4997-addf-b84c358e1117",
   "metadata": {},
   "source": [
    "# BARAJA\n",
    "\n",
    "Un mazo consta de 52 cartas, 13 corazones, 13 tréboles, 13 ases y 13 rombos. \n",
    "¿cuál es la probabilidad de que al barajear un mazo de cartas, salgan cuatro ases seguidos?\n",
    "\n",
    "$$\\frac{n! \\cdot (m-n+1)!}{m!}$$\n",
    "\n",
    "- $n = 4$ son los 4 ases. Hay un as de corazones, uno de tréboles y uno de rombos. Éstos pueden aparecer el cualquier posición, en realidad, en $4! = 24$ posiciones. \n",
    "\n",
    "- $n! \\cdot (m-n+1)!$ representa que, éstos 4 ases pueden aparecer a lo largo de toda la baraja, recorriendola, pueden aparecer en $(m-n+1)!$ formas\n",
    "\n",
    "- Al dividirlo entre $m! = 52!$ estamos recorriendo todas las cartas del mazo"
   ]
  },
  {
   "cell_type": "markdown",
   "id": "63c868ee-8ff7-4d6b-a13c-d5ed820d3580",
   "metadata": {},
   "source": [
    "## Factorial\n",
    "\n",
    "Definimos la función factorial de la siguiente manera:"
   ]
  },
  {
   "cell_type": "code",
   "execution_count": 1,
   "id": "6959eb70-384b-4887-9acd-d42a77c0340c",
   "metadata": {},
   "outputs": [],
   "source": [
    "def factorial(n):\n",
    "    #caso base\n",
    "    if n == 0:\n",
    "        return 1\n",
    "    else:\n",
    "        return factorial(n-1)*n "
   ]
  },
  {
   "cell_type": "code",
   "execution_count": 2,
   "id": "cfa918d1-ed86-4a6a-a0e7-a8c53fedb6b6",
   "metadata": {},
   "outputs": [],
   "source": [
    "import random as rd\n",
    "import numpy as np\n",
    "#import numba as nb"
   ]
  },
  {
   "cell_type": "code",
   "execution_count": 3,
   "id": "65418779-2229-4301-ad49-782845fbc783",
   "metadata": {},
   "outputs": [
    {
     "name": "stdout",
     "output_type": "stream",
     "text": [
      "0.00017\n"
     ]
    }
   ],
   "source": [
    "n=1000000 #barajeando el mazo un millón de veces\n",
    "deck = [0,0,0,0] + list(range(1,49)) #los ceros son nuestros ases\n",
    "cuenta = 0\n",
    "\n",
    "for i in range(n):\n",
    "    rd.shuffle(deck)\n",
    "\n",
    "    for i in range(48):\n",
    "        if [deck[i], deck[i+1], deck[i+2], deck[i+3]] == [0,0,0,0]: #si hay cuatro ases seguidos\n",
    "            cuenta += 1\n",
    "            \n",
    "print(cuenta/n)\n"
   ]
  },
  {
   "cell_type": "code",
   "execution_count": 4,
   "id": "e572775e-a2ad-4851-8679-9ad74e5bd00a",
   "metadata": {
    "tags": []
   },
   "outputs": [],
   "source": [
    "a = cuenta/n"
   ]
  },
  {
   "cell_type": "code",
   "execution_count": 5,
   "id": "03f1a51b-fc4e-4ada-99c2-dcf09eee6571",
   "metadata": {},
   "outputs": [
    {
     "name": "stdout",
     "output_type": "stream",
     "text": [
      "La probabilidad experimental es de:  0.00017\n"
     ]
    }
   ],
   "source": [
    "print(\"La probabilidad experimental es de: \", a)"
   ]
  },
  {
   "cell_type": "code",
   "execution_count": 6,
   "id": "c1c53675-4848-4b07-b974-c1c9970e1119",
   "metadata": {},
   "outputs": [],
   "source": [
    "n = 4\n",
    "m = 52"
   ]
  },
  {
   "cell_type": "code",
   "execution_count": 7,
   "id": "29396f52-5efb-493a-abcc-877f729a7292",
   "metadata": {},
   "outputs": [],
   "source": [
    "proba = ( factorial(n) * factorial(m-n+1) ) / factorial(m)"
   ]
  },
  {
   "cell_type": "code",
   "execution_count": 8,
   "id": "e361a39d-4cea-4bb5-b488-967d5bff4951",
   "metadata": {},
   "outputs": [
    {
     "name": "stdout",
     "output_type": "stream",
     "text": [
      "La probabilidad teórica es de:  0.00018099547511312217\n"
     ]
    }
   ],
   "source": [
    "print(\"La probabilidad teórica es de: \", proba) "
   ]
  },
  {
   "cell_type": "code",
   "execution_count": 16,
   "id": "63583e5b-31ca-4a68-bcf7-ad9e4960db37",
   "metadata": {},
   "outputs": [],
   "source": [
    "error = (proba - a) / proba"
   ]
  },
  {
   "cell_type": "code",
   "execution_count": 17,
   "id": "4595bfc2-6ec1-4332-97e3-8f55ece4a6c5",
   "metadata": {},
   "outputs": [
    {
     "name": "stdout",
     "output_type": "stream",
     "text": [
      "el error porcentual entre la probabilidad teórica y la experimental es de:  6.074999999999991 %\n"
     ]
    }
   ],
   "source": [
    "print(\"el error porcentual entre la probabilidad teórica y la experimental es de: \", error*100, \"%\")"
   ]
  },
  {
   "cell_type": "code",
   "execution_count": null,
   "id": "303c4e71-e125-4500-bf9f-eedf0ad58d67",
   "metadata": {},
   "outputs": [],
   "source": []
  }
 ],
 "metadata": {
  "kernelspec": {
   "display_name": "Python 3 (ipykernel)",
   "language": "python",
   "name": "python3"
  },
  "language_info": {
   "codemirror_mode": {
    "name": "ipython",
    "version": 3
   },
   "file_extension": ".py",
   "mimetype": "text/x-python",
   "name": "python",
   "nbconvert_exporter": "python",
   "pygments_lexer": "ipython3",
   "version": "3.10.0"
  }
 },
 "nbformat": 4,
 "nbformat_minor": 5
}
