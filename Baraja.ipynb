{
 "cells": [
  {
   "cell_type": "markdown",
   "id": "6d758b86-ea6c-48bb-bb51-1edb27d355d4",
   "metadata": {},
   "source": [
    "# Problema\n",
    "Una baraja consta de 52 cartas, la cual tiene 4 palos, por lo que cada carta esta repetida 4 veces en la baraja.\n",
    "Si barajeamos el deck podemos calcular la probabilidad de encontar cuatro cartas iguales seguidas mediante:\n",
    "\n",
    "$$Prob=\\left ( \\prod_{i=1}^{4} \\frac{i}{48+i} \\right ) \\times 100$$\n",
    "\n",
    "$$Prob=3.6 \\times 10^{-4}$$\n",
    "\n",
    "Podemos simular tantos escenarios como queramos con el siguiente codigo:\n"
   ]
  },
  {
   "cell_type": "code",
   "execution_count": 56,
   "id": "1dc2d7ca-0fbf-4015-a59e-2124c8cc5e83",
   "metadata": {},
   "outputs": [],
   "source": [
    "import numpy as np\n",
    "import re"
   ]
  },
  {
   "cell_type": "code",
   "execution_count": 57,
   "id": "581d345d-a2ae-4ddc-b39b-5c46fceeccdd",
   "metadata": {},
   "outputs": [],
   "source": [
    "# Inicializamos la baraja\n",
    "Zeros=np.zeros(48, dtype=\"int\")\n",
    "Ones=np.ones(4, dtype=\"int\")\n",
    "Baraja=np.concatenate((Zeros,Ones))"
   ]
  },
  {
   "cell_type": "code",
   "execution_count": 68,
   "id": "8c121af9-5e5d-472d-9e50-efd0a9aca9aa",
   "metadata": {},
   "outputs": [],
   "source": [
    "# Loop Jit\n",
    "def Simulacion(N):\n",
    "    Count=0\n",
    "    for i in range(N):\n",
    "        np.random.shuffle(Baraja)\n",
    "        String=\"\".join(str(i) for i in Baraja)\n",
    "        if(re.search(\"1{3}\", String)):\n",
    "            Count=Count+1\n",
    "    Prob=(Count/N)*100\n",
    "    print(Prob)\n",
    "#Cris, entiendo que tenemos una probabilidad de 3.6e-4 de encontrar 4 cartas iguales seguidas en UNA sola baraja, pero entonces\n",
    "#la probabilidad de encontrar 4 cartas iguales seguidas en una baraja a lo largo de N intentos es Prob*N?, no entienod muy bien esto\n",
    "#igual checa si mi formula esta bien, "
   ]
  },
  {
   "cell_type": "code",
   "execution_count": 66,
   "id": "e6f57928-9629-445e-aebd-946d1a585058",
   "metadata": {},
   "outputs": [
    {
     "name": "stdout",
     "output_type": "stream",
     "text": [
      "0.9900000000000001\n"
     ]
    }
   ],
   "source": [
    "Simulacion(10000)"
   ]
  }
 ],
 "metadata": {
  "kernelspec": {
   "display_name": "Python 3 (ipykernel)",
   "language": "python",
   "name": "python3"
  },
  "language_info": {
   "codemirror_mode": {
    "name": "ipython",
    "version": 3
   },
   "file_extension": ".py",
   "mimetype": "text/x-python",
   "name": "python",
   "nbconvert_exporter": "python",
   "pygments_lexer": "ipython3",
   "version": "3.8.8"
  }
 },
 "nbformat": 4,
 "nbformat_minor": 5
}
